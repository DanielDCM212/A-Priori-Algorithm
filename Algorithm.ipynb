{
  "nbformat": 4,
  "nbformat_minor": 0,
  "metadata": {
    "colab": {
      "name": "Algorithm.ipynb",
      "provenance": [],
      "collapsed_sections": [],
      "toc_visible": true,
      "authorship_tag": "ABX9TyPTvFS77EfUZkEcnzNMzB0k",
      "include_colab_link": true
    },
    "kernelspec": {
      "name": "python3",
      "display_name": "Python 3"
    }
  },
  "cells": [
    {
      "cell_type": "markdown",
      "metadata": {
        "id": "view-in-github",
        "colab_type": "text"
      },
      "source": [
        "<a href=\"https://colab.research.google.com/github/DanielDCM212/A-Priori-Algorithm/blob/main/Algorithm.ipynb\" target=\"_parent\"><img src=\"https://colab.research.google.com/assets/colab-badge.svg\" alt=\"Open In Colab\"/></a>"
      ]
    },
    {
      "cell_type": "markdown",
      "metadata": {
        "id": "Xq1_OAhQEdIi"
      },
      "source": [
        "# A Priori Algorithm\n",
        "\n",
        "By Daniel Danilo Cuevas Mendez\n",
        "\n",
        "![Google Colab](https://img.shields.io/badge/Github-green?style=for-the-badge&logo=github&logoColor=white&labelColor=black) [Github](https://github.com/DanielDCM212/A-Priori-Algorithm/tree/main)\n",
        "\n",
        "The products are mencionated in \n",
        "[Basic Producs](https://www.commoditiesdemystified.info/es/physical-commodities.html#:~:text=Categor%C3%ADas%20de%20productos%20b%C3%A1sicos&text=Las%20categor%C3%ADas%20principales%20de%20productos,cacao%2C%20caf%C3%A9%2C%20az%C3%BAcar) \n",
        "\n",
        "This work are made in Google Colab, link at the\n",
        "\n",
        "![Google Colab](https://img.shields.io/badge/oogle-Colab-yellow?style=for-the-badge&logo=google&logoColor=yellow&labelColor=101010) [project](https://colab.research.google.com/drive/1GqM-jcz9vZd4BX8POythTlsEhjrGVSmQ?usp=sharing)."
      ]
    },
    {
      "cell_type": "code",
      "metadata": {
        "id": "axZg93jpEhOR"
      },
      "source": [
        "import random\n",
        "import itertools"
      ],
      "execution_count": null,
      "outputs": []
    },
    {
      "cell_type": "code",
      "metadata": {
        "id": "f6gKHhddsQ0B"
      },
      "source": [
        "def Apriori(transactions, min_sup=0.5, min_sup_count = False):\n",
        "  \"\"\"\n",
        "  transactions: List of transactions on format\n",
        "  min_sup = Percentage of transactions objetive if min_sup_count is False / Number of transactions objetive if min_sup_count is True\n",
        "  min_sup_count = True/False \n",
        "\n",
        "  Examples\n",
        "\n",
        "  Apriori(transactions, min_sup = 0.5) is equal that Apriori(transactions, min_sup = 2, min_sup_count = True) if the number of transactions is 4\n",
        "  \n",
        "  >>> transactions = [\n",
        "     [\"a\",\"c\",\"d\"],\n",
        "     [\"b\",\"c\",\"e\"],\n",
        "     [\"a\",\"b\",\"c\",\"e\"],\n",
        "     [\"b\",\"e\"]\n",
        "  ]\n",
        "\n",
        "  >>> Apriori(transactions, min_sup = 0.5)\n",
        "\n",
        "  >>> Apriori(transactions, min_sup = 2, min_sup_count = True)\n",
        "\n",
        "  Return a dictionary where key = 0 only contain a dictionay whith the producs of the set of transactions\n",
        "  and all key >= 1 contain a dictionari whit keys (table, filter, products).\n",
        "\n",
        "  table -> all data whitout filtered\n",
        "  filter -> combination valid whit respect min_sup\n",
        "  products -> new set of valid products to continue\n",
        "\n",
        "  \"\"\"\n",
        "\n",
        "  if min_sup_count: transactionsT = 1\n",
        "  else: transactionsT = len(transactions)\n",
        "\n",
        "  results = {0:{\n",
        "      \"products\": { item for ticket in transactions for item in ticket }\n",
        "  }}\n",
        "\n",
        "  idx = 1\n",
        "  while len(results[idx-1][\"products\"]) != 0:\n",
        "    data = {}\n",
        "    combinations = itertools.combinations(results[idx-1][\"products\"], idx)\n",
        "    data[\"table\"] = list(map(lambda com: [com, len([ 1 for x in transactions if set(com) & set(x) == set(com)])/transactionsT] , combinations))\n",
        "    data[\"filter\"] = list(filter(lambda data: data[1] >= min_sup, data[\"table\"] ))\n",
        "    data[\"products\"] = { item for ticket in data[\"filter\"] for item in ticket[0] }\n",
        "    results[idx] = data\n",
        "    idx+=1\n",
        "  return results\n",
        "\n",
        "def GLVF(dictionary):\n",
        "  \"\"\"\n",
        "  Get Last Valid Filter\n",
        "  dictionary is the result of Apriori\n",
        "  \n",
        "  Return a list\n",
        "  \"\"\"\n",
        "  return dictionary[list(dictionary.keys())[-2]][\"filter\"]"
      ],
      "execution_count": null,
      "outputs": []
    },
    {
      "cell_type": "code",
      "metadata": {
        "id": "m3vM8EwU_TVQ"
      },
      "source": [
        "products = (\"maíz\", \"soja\", \"avena\", \"arroz\", \"trigo\", \"reses\", \"cerdos\", \"aves\", \"leche\", \"manteca\", \"suero lácteo\", \"cacao\", \"café\", \"azúcar\")\n",
        "\n",
        "tickets = [\n",
        "           ['trigo', 'cerdos'],\n",
        "           ['maíz', 'reses', 'café'],\n",
        "           ['manteca', 'aves', 'maíz', 'reses', 'suero lácteo', 'cerdos', 'arroz', 'azúcar', 'cacao'],\n",
        "           ['soja', 'aves', 'café', 'arroz', 'cacao', 'avena', 'azúcar', 'leche', 'reses', 'trigo'],\n",
        "           ['cerdos', 'reses', 'cacao', 'leche', 'soja', 'arroz', 'aves', 'maíz', 'avena', 'suero lácteo', 'azúcar', 'trigo', 'manteca'],\n",
        "           ['trigo', 'azúcar', 'cacao', 'leche'],\n",
        "           ['trigo', 'leche', 'café', 'azúcar', 'cerdos', 'arroz', 'aves', 'maíz', 'avena', 'reses', 'soja'],\n",
        "           ['azúcar', 'aves', 'trigo', 'maíz', 'reses', 'avena', 'leche', 'café', 'suero lácteo', 'cerdos', 'soja', 'cacao'],\n",
        "           ['arroz', 'maíz', 'soja', 'trigo', 'aves', 'café', 'manteca', 'suero lácteo', 'cerdos', 'avena', 'cacao'],\n",
        "           ['cacao', 'maíz', 'café', 'soja', 'arroz', 'manteca', 'trigo'],\n",
        "           ['arroz', 'leche', 'reses', 'soja', 'maíz', 'cacao', 'azúcar', 'cerdos', 'manteca'],\n",
        "           ['azúcar', 'aves', 'cacao', 'suero lácteo'],\n",
        "           ['azúcar', 'trigo', 'reses', 'cerdos', 'soja', 'café'],\n",
        "           ['aves', 'cerdos', 'maíz', 'leche', 'cacao'],\n",
        "           ['soja', 'suero lácteo', 'manteca', 'avena', 'leche', 'arroz', 'trigo', 'cacao', 'café', 'cerdos', 'maíz', 'azúcar', 'reses', 'aves'],\n",
        "           ['avena', 'manteca', 'trigo', 'café', 'soja'],\n",
        "           ['arroz', 'trigo', 'maíz', 'cacao', 'café', 'reses', 'azúcar', 'cerdos'],\n",
        "           ['maíz', 'suero lácteo', 'café', 'cerdos', 'aves', 'trigo', 'reses', 'cacao', 'manteca', 'avena', 'azúcar', 'arroz'],\n",
        "           ['manteca', 'trigo', 'cerdos', 'aves', 'soja', 'avena', 'suero lácteo', 'maíz', 'leche', 'café', 'cacao'],\n",
        "           ['arroz', 'azúcar', 'maíz']\n",
        "]\n",
        "\n",
        "# Uncommented to run other set of tickets\n",
        "# tickets = [ random.sample(products, random.randint(1,len(products))) for _ in range(20) ]\n",
        "\n",
        "#data obtained of the class example \n",
        "Class_Example = [\n",
        "                 [\"a\",\"c\",\"d\"],\n",
        "                 [\"b\",\"c\",\"e\"],\n",
        "                 [\"a\",\"b\",\"c\",\"e\"],\n",
        "                 [\"b\",\"e\"]\n",
        "]\n",
        "\n"
      ],
      "execution_count": null,
      "outputs": []
    },
    {
      "cell_type": "markdown",
      "metadata": {
        "id": "iLmTGFAXDyr9"
      },
      "source": [
        "## Class Example"
      ]
    },
    {
      "cell_type": "code",
      "metadata": {
        "id": "Q9G56nLbtRro",
        "outputId": "a8dfd1c1-b360-46ba-f6e6-dd7c71e08d2d",
        "colab": {
          "base_uri": "https://localhost:8080/",
          "height": 935
        }
      },
      "source": [
        "# by Percentage\n",
        "Test_1A = Apriori(Class_Example, 0.5)\n",
        "# by count\n",
        "Test_1B = Apriori(Class_Example, 2, True)\n",
        "\n",
        "print(\">\"*10 + \" Test_1A \" + \"<\"*10)\n",
        "display(Test_1A)\n",
        "print(\">\"*10 + \" Test_1B \" + \"<\"*10)\n",
        "display(Test_1B)\n"
      ],
      "execution_count": null,
      "outputs": [
        {
          "output_type": "stream",
          "text": [
            ">>>>>>>>>> Test_1A <<<<<<<<<<\n"
          ],
          "name": "stdout"
        },
        {
          "output_type": "display_data",
          "data": {
            "text/plain": [
              "{0: {'products': {'a', 'b', 'c', 'd', 'e'}},\n",
              " 1: {'filter': [[('e',), 0.75], [('b',), 0.75], [('a',), 0.5], [('c',), 0.75]],\n",
              "  'products': {'a', 'b', 'c', 'e'},\n",
              "  'table': [[('e',), 0.75],\n",
              "   [('b',), 0.75],\n",
              "   [('d',), 0.25],\n",
              "   [('a',), 0.5],\n",
              "   [('c',), 0.75]]},\n",
              " 2: {'filter': [[('e', 'c'), 0.5],\n",
              "   [('e', 'b'), 0.75],\n",
              "   [('a', 'c'), 0.5],\n",
              "   [('c', 'b'), 0.5]],\n",
              "  'products': {'a', 'b', 'c', 'e'},\n",
              "  'table': [[('e', 'a'), 0.25],\n",
              "   [('e', 'c'), 0.5],\n",
              "   [('e', 'b'), 0.75],\n",
              "   [('a', 'c'), 0.5],\n",
              "   [('a', 'b'), 0.25],\n",
              "   [('c', 'b'), 0.5]]},\n",
              " 3: {'filter': [[('e', 'b', 'c'), 0.5]],\n",
              "  'products': {'b', 'c', 'e'},\n",
              "  'table': [[('e', 'a', 'b'), 0.25],\n",
              "   [('e', 'a', 'c'), 0.25],\n",
              "   [('e', 'b', 'c'), 0.5],\n",
              "   [('a', 'b', 'c'), 0.25]]},\n",
              " 4: {'filter': [], 'products': set(), 'table': []}}"
            ]
          },
          "metadata": {
            "tags": []
          }
        },
        {
          "output_type": "stream",
          "text": [
            ">>>>>>>>>> Test_1B <<<<<<<<<<\n"
          ],
          "name": "stdout"
        },
        {
          "output_type": "display_data",
          "data": {
            "text/plain": [
              "{0: {'products': {'a', 'b', 'c', 'd', 'e'}},\n",
              " 1: {'filter': [[('e',), 3.0], [('b',), 3.0], [('a',), 2.0], [('c',), 3.0]],\n",
              "  'products': {'a', 'b', 'c', 'e'},\n",
              "  'table': [[('e',), 3.0],\n",
              "   [('b',), 3.0],\n",
              "   [('d',), 1.0],\n",
              "   [('a',), 2.0],\n",
              "   [('c',), 3.0]]},\n",
              " 2: {'filter': [[('e', 'c'), 2.0],\n",
              "   [('e', 'b'), 3.0],\n",
              "   [('a', 'c'), 2.0],\n",
              "   [('c', 'b'), 2.0]],\n",
              "  'products': {'a', 'b', 'c', 'e'},\n",
              "  'table': [[('e', 'a'), 1.0],\n",
              "   [('e', 'c'), 2.0],\n",
              "   [('e', 'b'), 3.0],\n",
              "   [('a', 'c'), 2.0],\n",
              "   [('a', 'b'), 1.0],\n",
              "   [('c', 'b'), 2.0]]},\n",
              " 3: {'filter': [[('e', 'b', 'c'), 2.0]],\n",
              "  'products': {'b', 'c', 'e'},\n",
              "  'table': [[('e', 'a', 'b'), 1.0],\n",
              "   [('e', 'a', 'c'), 1.0],\n",
              "   [('e', 'b', 'c'), 2.0],\n",
              "   [('a', 'b', 'c'), 1.0]]},\n",
              " 4: {'filter': [], 'products': set(), 'table': []}}"
            ]
          },
          "metadata": {
            "tags": []
          }
        }
      ]
    },
    {
      "cell_type": "markdown",
      "metadata": {
        "id": "Xx_5392YEOAJ"
      },
      "source": [
        "### Last Valid filter to Test_1\n",
        "\n"
      ]
    },
    {
      "cell_type": "code",
      "metadata": {
        "id": "wKE35HEYERjM",
        "outputId": "c5825de5-d21c-4743-d1c6-def8729041f1",
        "colab": {
          "base_uri": "https://localhost:8080/"
        }
      },
      "source": [
        "# by Percentage\n",
        "print(GLVF(Test_1A))\n",
        "# by count\n",
        "print(GLVF(Test_1B))"
      ],
      "execution_count": null,
      "outputs": [
        {
          "output_type": "stream",
          "text": [
            "[[('e', 'b', 'c'), 0.5]]\n",
            "[[('e', 'b', 'c'), 2.0]]\n"
          ],
          "name": "stdout"
        }
      ]
    },
    {
      "cell_type": "markdown",
      "metadata": {
        "id": "3j0STkkXFrWj"
      },
      "source": [
        "## Test 2"
      ]
    },
    {
      "cell_type": "code",
      "metadata": {
        "id": "EKxf3QUJ-Wz_",
        "outputId": "4ff9c62a-2127-47d6-db3e-23b9c4c59d97",
        "colab": {
          "base_uri": "https://localhost:8080/",
          "height": 1000
        }
      },
      "source": [
        "# by Percentage\n",
        "Test_2A = Apriori(tickets, 0.5)\n",
        "# by count\n",
        "Test_2B = Apriori(tickets, 10, True)\n",
        "\n",
        "print(\">\"*10 + \" Test_2A \" + \"<\"*10)\n",
        "display(Test_2A)\n",
        "print(\">\"*10 + \" Test_2B \" + \"<\"*10)\n",
        "display(Test_2B)"
      ],
      "execution_count": null,
      "outputs": [
        {
          "output_type": "stream",
          "text": [
            ">>>>>>>>>> Test_2A <<<<<<<<<<\n"
          ],
          "name": "stdout"
        },
        {
          "output_type": "display_data",
          "data": {
            "text/plain": [
              "{0: {'products': {'arroz',\n",
              "   'avena',\n",
              "   'aves',\n",
              "   'azúcar',\n",
              "   'cacao',\n",
              "   'café',\n",
              "   'cerdos',\n",
              "   'leche',\n",
              "   'manteca',\n",
              "   'maíz',\n",
              "   'reses',\n",
              "   'soja',\n",
              "   'suero lácteo',\n",
              "   'trigo'}},\n",
              " 1: {'filter': [[('trigo',), 0.7],\n",
              "   [('aves',), 0.55],\n",
              "   [('café',), 0.6],\n",
              "   [('arroz',), 0.55],\n",
              "   [('soja',), 0.55],\n",
              "   [('azúcar',), 0.65],\n",
              "   [('cerdos',), 0.65],\n",
              "   [('maíz',), 0.7],\n",
              "   [('cacao',), 0.7],\n",
              "   [('reses',), 0.55]],\n",
              "  'products': {'arroz',\n",
              "   'aves',\n",
              "   'azúcar',\n",
              "   'cacao',\n",
              "   'café',\n",
              "   'cerdos',\n",
              "   'maíz',\n",
              "   'reses',\n",
              "   'soja',\n",
              "   'trigo'},\n",
              "  'table': [[('trigo',), 0.7],\n",
              "   [('aves',), 0.55],\n",
              "   [('café',), 0.6],\n",
              "   [('arroz',), 0.55],\n",
              "   [('suero lácteo',), 0.4],\n",
              "   [('leche',), 0.45],\n",
              "   [('soja',), 0.55],\n",
              "   [('manteca',), 0.45],\n",
              "   [('azúcar',), 0.65],\n",
              "   [('cerdos',), 0.65],\n",
              "   [('maíz',), 0.7],\n",
              "   [('cacao',), 0.7],\n",
              "   [('avena',), 0.45],\n",
              "   [('reses',), 0.55]]},\n",
              " 2: {'filter': [[('trigo', 'café'), 0.55],\n",
              "   [('trigo', 'soja'), 0.5],\n",
              "   [('trigo', 'cerdos'), 0.5],\n",
              "   [('trigo', 'cacao'), 0.5],\n",
              "   [('aves', 'cacao'), 0.5],\n",
              "   [('arroz', 'maíz'), 0.5],\n",
              "   [('azúcar', 'cacao'), 0.5],\n",
              "   [('azúcar', 'reses'), 0.5],\n",
              "   [('cerdos', 'maíz'), 0.55],\n",
              "   [('cerdos', 'cacao'), 0.5],\n",
              "   [('maíz', 'cacao'), 0.55]],\n",
              "  'products': {'arroz',\n",
              "   'aves',\n",
              "   'azúcar',\n",
              "   'cacao',\n",
              "   'café',\n",
              "   'cerdos',\n",
              "   'maíz',\n",
              "   'reses',\n",
              "   'soja',\n",
              "   'trigo'},\n",
              "  'table': [[('trigo', 'aves'), 0.4],\n",
              "   [('trigo', 'café'), 0.55],\n",
              "   [('trigo', 'arroz'), 0.4],\n",
              "   [('trigo', 'soja'), 0.5],\n",
              "   [('trigo', 'azúcar'), 0.45],\n",
              "   [('trigo', 'cerdos'), 0.5],\n",
              "   [('trigo', 'maíz'), 0.45],\n",
              "   [('trigo', 'cacao'), 0.5],\n",
              "   [('trigo', 'reses'), 0.4],\n",
              "   [('aves', 'café'), 0.35],\n",
              "   [('aves', 'arroz'), 0.35],\n",
              "   [('aves', 'soja'), 0.35],\n",
              "   [('aves', 'azúcar'), 0.4],\n",
              "   [('aves', 'cerdos'), 0.45],\n",
              "   [('aves', 'maíz'), 0.45],\n",
              "   [('aves', 'cacao'), 0.5],\n",
              "   [('aves', 'reses'), 0.35],\n",
              "   [('café', 'arroz'), 0.35],\n",
              "   [('café', 'soja'), 0.45],\n",
              "   [('café', 'azúcar'), 0.35],\n",
              "   [('café', 'cerdos'), 0.4],\n",
              "   [('café', 'maíz'), 0.45],\n",
              "   [('café', 'cacao'), 0.4],\n",
              "   [('café', 'reses'), 0.4],\n",
              "   [('arroz', 'soja'), 0.35],\n",
              "   [('arroz', 'azúcar'), 0.45],\n",
              "   [('arroz', 'cerdos'), 0.4],\n",
              "   [('arroz', 'maíz'), 0.5],\n",
              "   [('arroz', 'cacao'), 0.45],\n",
              "   [('arroz', 'reses'), 0.4],\n",
              "   [('soja', 'azúcar'), 0.35],\n",
              "   [('soja', 'cerdos'), 0.4],\n",
              "   [('soja', 'maíz'), 0.4],\n",
              "   [('soja', 'cacao'), 0.4],\n",
              "   [('soja', 'reses'), 0.35],\n",
              "   [('azúcar', 'cerdos'), 0.45],\n",
              "   [('azúcar', 'maíz'), 0.45],\n",
              "   [('azúcar', 'cacao'), 0.5],\n",
              "   [('azúcar', 'reses'), 0.5],\n",
              "   [('cerdos', 'maíz'), 0.55],\n",
              "   [('cerdos', 'cacao'), 0.5],\n",
              "   [('cerdos', 'reses'), 0.45],\n",
              "   [('maíz', 'cacao'), 0.55],\n",
              "   [('maíz', 'reses'), 0.45],\n",
              "   [('cacao', 'reses'), 0.4]]},\n",
              " 3: {'filter': [[('cerdos', 'cacao', 'maíz'), 0.5]],\n",
              "  'products': {'cacao', 'cerdos', 'maíz'},\n",
              "  'table': [[('trigo', 'aves', 'café'), 0.35],\n",
              "   [('trigo', 'aves', 'arroz'), 0.3],\n",
              "   [('trigo', 'aves', 'soja'), 0.35],\n",
              "   [('trigo', 'aves', 'azúcar'), 0.3],\n",
              "   [('trigo', 'aves', 'cerdos'), 0.35],\n",
              "   [('trigo', 'aves', 'cacao'), 0.35],\n",
              "   [('trigo', 'aves', 'maíz'), 0.35],\n",
              "   [('trigo', 'aves', 'reses'), 0.3],\n",
              "   [('trigo', 'café', 'arroz'), 0.35],\n",
              "   [('trigo', 'café', 'soja'), 0.45],\n",
              "   [('trigo', 'café', 'azúcar'), 0.35],\n",
              "   [('trigo', 'café', 'cerdos'), 0.4],\n",
              "   [('trigo', 'café', 'cacao'), 0.4],\n",
              "   [('trigo', 'café', 'maíz'), 0.4],\n",
              "   [('trigo', 'café', 'reses'), 0.35],\n",
              "   [('trigo', 'arroz', 'soja'), 0.3],\n",
              "   [('trigo', 'arroz', 'azúcar'), 0.3],\n",
              "   [('trigo', 'arroz', 'cerdos'), 0.3],\n",
              "   [('trigo', 'arroz', 'cacao'), 0.35],\n",
              "   [('trigo', 'arroz', 'maíz'), 0.35],\n",
              "   [('trigo', 'arroz', 'reses'), 0.3],\n",
              "   [('trigo', 'soja', 'azúcar'), 0.3],\n",
              "   [('trigo', 'soja', 'cerdos'), 0.35],\n",
              "   [('trigo', 'soja', 'cacao'), 0.35],\n",
              "   [('trigo', 'soja', 'maíz'), 0.35],\n",
              "   [('trigo', 'soja', 'reses'), 0.3],\n",
              "   [('trigo', 'azúcar', 'cerdos'), 0.35],\n",
              "   [('trigo', 'azúcar', 'cacao'), 0.35],\n",
              "   [('trigo', 'azúcar', 'maíz'), 0.3],\n",
              "   [('trigo', 'azúcar', 'reses'), 0.4],\n",
              "   [('trigo', 'cerdos', 'cacao'), 0.35],\n",
              "   [('trigo', 'cerdos', 'maíz'), 0.4],\n",
              "   [('trigo', 'cerdos', 'reses'), 0.35],\n",
              "   [('trigo', 'cacao', 'maíz'), 0.4],\n",
              "   [('trigo', 'cacao', 'reses'), 0.3],\n",
              "   [('trigo', 'maíz', 'reses'), 0.3],\n",
              "   [('aves', 'café', 'arroz'), 0.25],\n",
              "   [('aves', 'café', 'soja'), 0.3],\n",
              "   [('aves', 'café', 'azúcar'), 0.25],\n",
              "   [('aves', 'café', 'cerdos'), 0.3],\n",
              "   [('aves', 'café', 'cacao'), 0.3],\n",
              "   [('aves', 'café', 'maíz'), 0.3],\n",
              "   [('aves', 'café', 'reses'), 0.25],\n",
              "   [('aves', 'arroz', 'soja'), 0.25],\n",
              "   [('aves', 'arroz', 'azúcar'), 0.3],\n",
              "   [('aves', 'arroz', 'cerdos'), 0.3],\n",
              "   [('aves', 'arroz', 'cacao'), 0.3],\n",
              "   [('aves', 'arroz', 'maíz'), 0.3],\n",
              "   [('aves', 'arroz', 'reses'), 0.3],\n",
              "   [('aves', 'soja', 'azúcar'), 0.25],\n",
              "   [('aves', 'soja', 'cerdos'), 0.3],\n",
              "   [('aves', 'soja', 'cacao'), 0.3],\n",
              "   [('aves', 'soja', 'maíz'), 0.3],\n",
              "   [('aves', 'soja', 'reses'), 0.25],\n",
              "   [('aves', 'azúcar', 'cerdos'), 0.3],\n",
              "   [('aves', 'azúcar', 'cacao'), 0.35],\n",
              "   [('aves', 'azúcar', 'maíz'), 0.3],\n",
              "   [('aves', 'azúcar', 'reses'), 0.35],\n",
              "   [('aves', 'cerdos', 'cacao'), 0.4],\n",
              "   [('aves', 'cerdos', 'maíz'), 0.45],\n",
              "   [('aves', 'cerdos', 'reses'), 0.3],\n",
              "   [('aves', 'cacao', 'maíz'), 0.4],\n",
              "   [('aves', 'cacao', 'reses'), 0.3],\n",
              "   [('aves', 'maíz', 'reses'), 0.3],\n",
              "   [('café', 'arroz', 'soja'), 0.25],\n",
              "   [('café', 'arroz', 'azúcar'), 0.25],\n",
              "   [('café', 'arroz', 'cerdos'), 0.25],\n",
              "   [('café', 'arroz', 'cacao'), 0.3],\n",
              "   [('café', 'arroz', 'maíz'), 0.3],\n",
              "   [('café', 'arroz', 'reses'), 0.25],\n",
              "   [('café', 'soja', 'azúcar'), 0.25],\n",
              "   [('café', 'soja', 'cerdos'), 0.3],\n",
              "   [('café', 'soja', 'cacao'), 0.3],\n",
              "   [('café', 'soja', 'maíz'), 0.3],\n",
              "   [('café', 'soja', 'reses'), 0.25],\n",
              "   [('café', 'azúcar', 'cerdos'), 0.3],\n",
              "   [('café', 'azúcar', 'cacao'), 0.25],\n",
              "   [('café', 'azúcar', 'maíz'), 0.25],\n",
              "   [('café', 'azúcar', 'reses'), 0.35],\n",
              "   [('café', 'cerdos', 'cacao'), 0.3],\n",
              "   [('café', 'cerdos', 'maíz'), 0.35],\n",
              "   [('café', 'cerdos', 'reses'), 0.3],\n",
              "   [('café', 'cacao', 'maíz'), 0.35],\n",
              "   [('café', 'cacao', 'reses'), 0.25],\n",
              "   [('café', 'maíz', 'reses'), 0.3],\n",
              "   [('arroz', 'soja', 'azúcar'), 0.25],\n",
              "   [('arroz', 'soja', 'cerdos'), 0.25],\n",
              "   [('arroz', 'soja', 'cacao'), 0.3],\n",
              "   [('arroz', 'soja', 'maíz'), 0.3],\n",
              "   [('arroz', 'soja', 'reses'), 0.25],\n",
              "   [('arroz', 'azúcar', 'cerdos'), 0.35],\n",
              "   [('arroz', 'azúcar', 'cacao'), 0.35],\n",
              "   [('arroz', 'azúcar', 'maíz'), 0.4],\n",
              "   [('arroz', 'azúcar', 'reses'), 0.4],\n",
              "   [('arroz', 'cerdos', 'cacao'), 0.35],\n",
              "   [('arroz', 'cerdos', 'maíz'), 0.4],\n",
              "   [('arroz', 'cerdos', 'reses'), 0.35],\n",
              "   [('arroz', 'cacao', 'maíz'), 0.4],\n",
              "   [('arroz', 'cacao', 'reses'), 0.35],\n",
              "   [('arroz', 'maíz', 'reses'), 0.35],\n",
              "   [('soja', 'azúcar', 'cerdos'), 0.3],\n",
              "   [('soja', 'azúcar', 'cacao'), 0.25],\n",
              "   [('soja', 'azúcar', 'maíz'), 0.25],\n",
              "   [('soja', 'azúcar', 'reses'), 0.35],\n",
              "   [('soja', 'cerdos', 'cacao'), 0.3],\n",
              "   [('soja', 'cerdos', 'maíz'), 0.35],\n",
              "   [('soja', 'cerdos', 'reses'), 0.3],\n",
              "   [('soja', 'cacao', 'maíz'), 0.35],\n",
              "   [('soja', 'cacao', 'reses'), 0.25],\n",
              "   [('soja', 'maíz', 'reses'), 0.25],\n",
              "   [('azúcar', 'cerdos', 'cacao'), 0.35],\n",
              "   [('azúcar', 'cerdos', 'maíz'), 0.4],\n",
              "   [('azúcar', 'cerdos', 'reses'), 0.45],\n",
              "   [('azúcar', 'cacao', 'maíz'), 0.35],\n",
              "   [('azúcar', 'cacao', 'reses'), 0.4],\n",
              "   [('azúcar', 'maíz', 'reses'), 0.4],\n",
              "   [('cerdos', 'cacao', 'maíz'), 0.5],\n",
              "   [('cerdos', 'cacao', 'reses'), 0.35],\n",
              "   [('cerdos', 'maíz', 'reses'), 0.4],\n",
              "   [('cacao', 'maíz', 'reses'), 0.35]]},\n",
              " 4: {'filter': [], 'products': set(), 'table': []}}"
            ]
          },
          "metadata": {
            "tags": []
          }
        },
        {
          "output_type": "stream",
          "text": [
            ">>>>>>>>>> Test_2B <<<<<<<<<<\n"
          ],
          "name": "stdout"
        },
        {
          "output_type": "display_data",
          "data": {
            "text/plain": [
              "{0: {'products': {'arroz',\n",
              "   'avena',\n",
              "   'aves',\n",
              "   'azúcar',\n",
              "   'cacao',\n",
              "   'café',\n",
              "   'cerdos',\n",
              "   'leche',\n",
              "   'manteca',\n",
              "   'maíz',\n",
              "   'reses',\n",
              "   'soja',\n",
              "   'suero lácteo',\n",
              "   'trigo'}},\n",
              " 1: {'filter': [[('trigo',), 14.0],\n",
              "   [('aves',), 11.0],\n",
              "   [('café',), 12.0],\n",
              "   [('arroz',), 11.0],\n",
              "   [('soja',), 11.0],\n",
              "   [('azúcar',), 13.0],\n",
              "   [('cerdos',), 13.0],\n",
              "   [('maíz',), 14.0],\n",
              "   [('cacao',), 14.0],\n",
              "   [('reses',), 11.0]],\n",
              "  'products': {'arroz',\n",
              "   'aves',\n",
              "   'azúcar',\n",
              "   'cacao',\n",
              "   'café',\n",
              "   'cerdos',\n",
              "   'maíz',\n",
              "   'reses',\n",
              "   'soja',\n",
              "   'trigo'},\n",
              "  'table': [[('trigo',), 14.0],\n",
              "   [('aves',), 11.0],\n",
              "   [('café',), 12.0],\n",
              "   [('arroz',), 11.0],\n",
              "   [('suero lácteo',), 8.0],\n",
              "   [('leche',), 9.0],\n",
              "   [('soja',), 11.0],\n",
              "   [('manteca',), 9.0],\n",
              "   [('azúcar',), 13.0],\n",
              "   [('cerdos',), 13.0],\n",
              "   [('maíz',), 14.0],\n",
              "   [('cacao',), 14.0],\n",
              "   [('avena',), 9.0],\n",
              "   [('reses',), 11.0]]},\n",
              " 2: {'filter': [[('trigo', 'café'), 11.0],\n",
              "   [('trigo', 'soja'), 10.0],\n",
              "   [('trigo', 'cerdos'), 10.0],\n",
              "   [('trigo', 'cacao'), 10.0],\n",
              "   [('aves', 'cacao'), 10.0],\n",
              "   [('arroz', 'maíz'), 10.0],\n",
              "   [('azúcar', 'cacao'), 10.0],\n",
              "   [('azúcar', 'reses'), 10.0],\n",
              "   [('cerdos', 'maíz'), 11.0],\n",
              "   [('cerdos', 'cacao'), 10.0],\n",
              "   [('maíz', 'cacao'), 11.0]],\n",
              "  'products': {'arroz',\n",
              "   'aves',\n",
              "   'azúcar',\n",
              "   'cacao',\n",
              "   'café',\n",
              "   'cerdos',\n",
              "   'maíz',\n",
              "   'reses',\n",
              "   'soja',\n",
              "   'trigo'},\n",
              "  'table': [[('trigo', 'aves'), 8.0],\n",
              "   [('trigo', 'café'), 11.0],\n",
              "   [('trigo', 'arroz'), 8.0],\n",
              "   [('trigo', 'soja'), 10.0],\n",
              "   [('trigo', 'azúcar'), 9.0],\n",
              "   [('trigo', 'cerdos'), 10.0],\n",
              "   [('trigo', 'maíz'), 9.0],\n",
              "   [('trigo', 'cacao'), 10.0],\n",
              "   [('trigo', 'reses'), 8.0],\n",
              "   [('aves', 'café'), 7.0],\n",
              "   [('aves', 'arroz'), 7.0],\n",
              "   [('aves', 'soja'), 7.0],\n",
              "   [('aves', 'azúcar'), 8.0],\n",
              "   [('aves', 'cerdos'), 9.0],\n",
              "   [('aves', 'maíz'), 9.0],\n",
              "   [('aves', 'cacao'), 10.0],\n",
              "   [('aves', 'reses'), 7.0],\n",
              "   [('café', 'arroz'), 7.0],\n",
              "   [('café', 'soja'), 9.0],\n",
              "   [('café', 'azúcar'), 7.0],\n",
              "   [('café', 'cerdos'), 8.0],\n",
              "   [('café', 'maíz'), 9.0],\n",
              "   [('café', 'cacao'), 8.0],\n",
              "   [('café', 'reses'), 8.0],\n",
              "   [('arroz', 'soja'), 7.0],\n",
              "   [('arroz', 'azúcar'), 9.0],\n",
              "   [('arroz', 'cerdos'), 8.0],\n",
              "   [('arroz', 'maíz'), 10.0],\n",
              "   [('arroz', 'cacao'), 9.0],\n",
              "   [('arroz', 'reses'), 8.0],\n",
              "   [('soja', 'azúcar'), 7.0],\n",
              "   [('soja', 'cerdos'), 8.0],\n",
              "   [('soja', 'maíz'), 8.0],\n",
              "   [('soja', 'cacao'), 8.0],\n",
              "   [('soja', 'reses'), 7.0],\n",
              "   [('azúcar', 'cerdos'), 9.0],\n",
              "   [('azúcar', 'maíz'), 9.0],\n",
              "   [('azúcar', 'cacao'), 10.0],\n",
              "   [('azúcar', 'reses'), 10.0],\n",
              "   [('cerdos', 'maíz'), 11.0],\n",
              "   [('cerdos', 'cacao'), 10.0],\n",
              "   [('cerdos', 'reses'), 9.0],\n",
              "   [('maíz', 'cacao'), 11.0],\n",
              "   [('maíz', 'reses'), 9.0],\n",
              "   [('cacao', 'reses'), 8.0]]},\n",
              " 3: {'filter': [[('cerdos', 'cacao', 'maíz'), 10.0]],\n",
              "  'products': {'cacao', 'cerdos', 'maíz'},\n",
              "  'table': [[('trigo', 'aves', 'café'), 7.0],\n",
              "   [('trigo', 'aves', 'arroz'), 6.0],\n",
              "   [('trigo', 'aves', 'soja'), 7.0],\n",
              "   [('trigo', 'aves', 'azúcar'), 6.0],\n",
              "   [('trigo', 'aves', 'cerdos'), 7.0],\n",
              "   [('trigo', 'aves', 'cacao'), 7.0],\n",
              "   [('trigo', 'aves', 'maíz'), 7.0],\n",
              "   [('trigo', 'aves', 'reses'), 6.0],\n",
              "   [('trigo', 'café', 'arroz'), 7.0],\n",
              "   [('trigo', 'café', 'soja'), 9.0],\n",
              "   [('trigo', 'café', 'azúcar'), 7.0],\n",
              "   [('trigo', 'café', 'cerdos'), 8.0],\n",
              "   [('trigo', 'café', 'cacao'), 8.0],\n",
              "   [('trigo', 'café', 'maíz'), 8.0],\n",
              "   [('trigo', 'café', 'reses'), 7.0],\n",
              "   [('trigo', 'arroz', 'soja'), 6.0],\n",
              "   [('trigo', 'arroz', 'azúcar'), 6.0],\n",
              "   [('trigo', 'arroz', 'cerdos'), 6.0],\n",
              "   [('trigo', 'arroz', 'cacao'), 7.0],\n",
              "   [('trigo', 'arroz', 'maíz'), 7.0],\n",
              "   [('trigo', 'arroz', 'reses'), 6.0],\n",
              "   [('trigo', 'soja', 'azúcar'), 6.0],\n",
              "   [('trigo', 'soja', 'cerdos'), 7.0],\n",
              "   [('trigo', 'soja', 'cacao'), 7.0],\n",
              "   [('trigo', 'soja', 'maíz'), 7.0],\n",
              "   [('trigo', 'soja', 'reses'), 6.0],\n",
              "   [('trigo', 'azúcar', 'cerdos'), 7.0],\n",
              "   [('trigo', 'azúcar', 'cacao'), 7.0],\n",
              "   [('trigo', 'azúcar', 'maíz'), 6.0],\n",
              "   [('trigo', 'azúcar', 'reses'), 8.0],\n",
              "   [('trigo', 'cerdos', 'cacao'), 7.0],\n",
              "   [('trigo', 'cerdos', 'maíz'), 8.0],\n",
              "   [('trigo', 'cerdos', 'reses'), 7.0],\n",
              "   [('trigo', 'cacao', 'maíz'), 8.0],\n",
              "   [('trigo', 'cacao', 'reses'), 6.0],\n",
              "   [('trigo', 'maíz', 'reses'), 6.0],\n",
              "   [('aves', 'café', 'arroz'), 5.0],\n",
              "   [('aves', 'café', 'soja'), 6.0],\n",
              "   [('aves', 'café', 'azúcar'), 5.0],\n",
              "   [('aves', 'café', 'cerdos'), 6.0],\n",
              "   [('aves', 'café', 'cacao'), 6.0],\n",
              "   [('aves', 'café', 'maíz'), 6.0],\n",
              "   [('aves', 'café', 'reses'), 5.0],\n",
              "   [('aves', 'arroz', 'soja'), 5.0],\n",
              "   [('aves', 'arroz', 'azúcar'), 6.0],\n",
              "   [('aves', 'arroz', 'cerdos'), 6.0],\n",
              "   [('aves', 'arroz', 'cacao'), 6.0],\n",
              "   [('aves', 'arroz', 'maíz'), 6.0],\n",
              "   [('aves', 'arroz', 'reses'), 6.0],\n",
              "   [('aves', 'soja', 'azúcar'), 5.0],\n",
              "   [('aves', 'soja', 'cerdos'), 6.0],\n",
              "   [('aves', 'soja', 'cacao'), 6.0],\n",
              "   [('aves', 'soja', 'maíz'), 6.0],\n",
              "   [('aves', 'soja', 'reses'), 5.0],\n",
              "   [('aves', 'azúcar', 'cerdos'), 6.0],\n",
              "   [('aves', 'azúcar', 'cacao'), 7.0],\n",
              "   [('aves', 'azúcar', 'maíz'), 6.0],\n",
              "   [('aves', 'azúcar', 'reses'), 7.0],\n",
              "   [('aves', 'cerdos', 'cacao'), 8.0],\n",
              "   [('aves', 'cerdos', 'maíz'), 9.0],\n",
              "   [('aves', 'cerdos', 'reses'), 6.0],\n",
              "   [('aves', 'cacao', 'maíz'), 8.0],\n",
              "   [('aves', 'cacao', 'reses'), 6.0],\n",
              "   [('aves', 'maíz', 'reses'), 6.0],\n",
              "   [('café', 'arroz', 'soja'), 5.0],\n",
              "   [('café', 'arroz', 'azúcar'), 5.0],\n",
              "   [('café', 'arroz', 'cerdos'), 5.0],\n",
              "   [('café', 'arroz', 'cacao'), 6.0],\n",
              "   [('café', 'arroz', 'maíz'), 6.0],\n",
              "   [('café', 'arroz', 'reses'), 5.0],\n",
              "   [('café', 'soja', 'azúcar'), 5.0],\n",
              "   [('café', 'soja', 'cerdos'), 6.0],\n",
              "   [('café', 'soja', 'cacao'), 6.0],\n",
              "   [('café', 'soja', 'maíz'), 6.0],\n",
              "   [('café', 'soja', 'reses'), 5.0],\n",
              "   [('café', 'azúcar', 'cerdos'), 6.0],\n",
              "   [('café', 'azúcar', 'cacao'), 5.0],\n",
              "   [('café', 'azúcar', 'maíz'), 5.0],\n",
              "   [('café', 'azúcar', 'reses'), 7.0],\n",
              "   [('café', 'cerdos', 'cacao'), 6.0],\n",
              "   [('café', 'cerdos', 'maíz'), 7.0],\n",
              "   [('café', 'cerdos', 'reses'), 6.0],\n",
              "   [('café', 'cacao', 'maíz'), 7.0],\n",
              "   [('café', 'cacao', 'reses'), 5.0],\n",
              "   [('café', 'maíz', 'reses'), 6.0],\n",
              "   [('arroz', 'soja', 'azúcar'), 5.0],\n",
              "   [('arroz', 'soja', 'cerdos'), 5.0],\n",
              "   [('arroz', 'soja', 'cacao'), 6.0],\n",
              "   [('arroz', 'soja', 'maíz'), 6.0],\n",
              "   [('arroz', 'soja', 'reses'), 5.0],\n",
              "   [('arroz', 'azúcar', 'cerdos'), 7.0],\n",
              "   [('arroz', 'azúcar', 'cacao'), 7.0],\n",
              "   [('arroz', 'azúcar', 'maíz'), 8.0],\n",
              "   [('arroz', 'azúcar', 'reses'), 8.0],\n",
              "   [('arroz', 'cerdos', 'cacao'), 7.0],\n",
              "   [('arroz', 'cerdos', 'maíz'), 8.0],\n",
              "   [('arroz', 'cerdos', 'reses'), 7.0],\n",
              "   [('arroz', 'cacao', 'maíz'), 8.0],\n",
              "   [('arroz', 'cacao', 'reses'), 7.0],\n",
              "   [('arroz', 'maíz', 'reses'), 7.0],\n",
              "   [('soja', 'azúcar', 'cerdos'), 6.0],\n",
              "   [('soja', 'azúcar', 'cacao'), 5.0],\n",
              "   [('soja', 'azúcar', 'maíz'), 5.0],\n",
              "   [('soja', 'azúcar', 'reses'), 7.0],\n",
              "   [('soja', 'cerdos', 'cacao'), 6.0],\n",
              "   [('soja', 'cerdos', 'maíz'), 7.0],\n",
              "   [('soja', 'cerdos', 'reses'), 6.0],\n",
              "   [('soja', 'cacao', 'maíz'), 7.0],\n",
              "   [('soja', 'cacao', 'reses'), 5.0],\n",
              "   [('soja', 'maíz', 'reses'), 5.0],\n",
              "   [('azúcar', 'cerdos', 'cacao'), 7.0],\n",
              "   [('azúcar', 'cerdos', 'maíz'), 8.0],\n",
              "   [('azúcar', 'cerdos', 'reses'), 9.0],\n",
              "   [('azúcar', 'cacao', 'maíz'), 7.0],\n",
              "   [('azúcar', 'cacao', 'reses'), 8.0],\n",
              "   [('azúcar', 'maíz', 'reses'), 8.0],\n",
              "   [('cerdos', 'cacao', 'maíz'), 10.0],\n",
              "   [('cerdos', 'cacao', 'reses'), 7.0],\n",
              "   [('cerdos', 'maíz', 'reses'), 8.0],\n",
              "   [('cacao', 'maíz', 'reses'), 7.0]]},\n",
              " 4: {'filter': [], 'products': set(), 'table': []}}"
            ]
          },
          "metadata": {
            "tags": []
          }
        }
      ]
    },
    {
      "cell_type": "markdown",
      "metadata": {
        "id": "r4_BmkwHF2zs"
      },
      "source": [
        "### Last Valid filter to Test_1"
      ]
    },
    {
      "cell_type": "code",
      "metadata": {
        "id": "D7qrb-NLF14M",
        "outputId": "ae4a17a0-f50c-4042-822b-424a5188531f",
        "colab": {
          "base_uri": "https://localhost:8080/"
        }
      },
      "source": [
        "# by Percentage\n",
        "print(GLVF(Test_2A))\n",
        "# by count\n",
        "print(GLVF(Test_2B))"
      ],
      "execution_count": null,
      "outputs": [
        {
          "output_type": "stream",
          "text": [
            "[[('cerdos', 'cacao', 'maíz'), 0.5]]\n",
            "[[('cerdos', 'cacao', 'maíz'), 10.0]]\n"
          ],
          "name": "stdout"
        }
      ]
    },
    {
      "cell_type": "markdown",
      "metadata": {
        "id": "W3VM0fzK3AIL"
      },
      "source": [
        "# Test"
      ]
    },
    {
      "cell_type": "code",
      "metadata": {
        "id": "5pltiABo3DSs",
        "outputId": "af828d1e-9776-4dd0-8d19-df94561f613c",
        "colab": {
          "base_uri": "https://localhost:8080/"
        }
      },
      "source": [
        "data = open('/content/data.txt', 'r')\n",
        "datos = [line.replace(\"\\n\",\"\").split(\",\") for line in data.readlines() ]\n",
        "table = Apriori(datos, 0.5)\n",
        "GLVF(table)"
      ],
      "execution_count": null,
      "outputs": [
        {
          "output_type": "execute_result",
          "data": {
            "text/plain": [
              "[[('salsa', 'Arroz', 'queso'), 0.5714285714285714]]"
            ]
          },
          "metadata": {
            "tags": []
          },
          "execution_count": 39
        }
      ]
    },
    {
      "cell_type": "code",
      "metadata": {
        "id": "NC3QYJTK3T0G",
        "outputId": "3c268b8f-a092-499b-dfe0-e5cf9d999c0a",
        "colab": {
          "base_uri": "https://localhost:8080/"
        }
      },
      "source": [
        "GLVF(Apriori(datos, 4, True))"
      ],
      "execution_count": null,
      "outputs": [
        {
          "output_type": "execute_result",
          "data": {
            "text/plain": [
              "[[('salsa', 'Arroz', 'queso'), 4.0]]"
            ]
          },
          "metadata": {
            "tags": []
          },
          "execution_count": 40
        }
      ]
    },
    {
      "cell_type": "code",
      "metadata": {
        "id": "FSOHuV3h4evl"
      },
      "source": [
        ""
      ],
      "execution_count": null,
      "outputs": []
    }
  ]
}